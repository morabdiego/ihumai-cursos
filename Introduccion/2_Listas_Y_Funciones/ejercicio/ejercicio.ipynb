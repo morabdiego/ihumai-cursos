{
 "cells": [
  {
   "cell_type": "markdown",
   "metadata": {},
   "source": [
    "<a href=\"https://colab.research.google.com/github/institutohumai/cursos-python/blob/master/Introduccion/2_Listas_Y_Funciones/ejercicio/ejercicio.ipynb\"> <img src='https://colab.research.google.com/assets/colab-badge.svg' /> </a>\n",
    "<div align=\"center\"> Recordá abrir en una nueva pestaña </div>\n"
   ]
  },
  {
   "cell_type": "markdown",
   "metadata": {},
   "source": [
    "# Ejercicios II"
   ]
  },
  {
   "cell_type": "markdown",
   "metadata": {},
   "source": [
    "## El contador de palabras\n",
    "\n",
    "Una revista científica quiere publicar los abstracts de los trabajos que aprobó recientemente pero primero tiene que asegurarse de que ninguno de los abstracts tenga más de 200 palabras. \n",
    "\n",
    "Para interactuar con los archivos que tenemos en nuestro \"file system\" vamos a utilizar el módulo os. No se preocupen por entender todos los detalles ahora, vamos a ir profundizando en la utilización de módulos. "
   ]
  },
  {
   "cell_type": "code",
   "execution_count": 10,
   "metadata": {},
   "outputs": [
    {
     "name": "stdout",
     "output_type": "stream",
     "text": [
      "--2024-09-15 19:36:32--  https://datasets-humai.s3.amazonaws.com/datasets/publicaciones.zip\n",
      "Resolving datasets-humai.s3.amazonaws.com (datasets-humai.s3.amazonaws.com)... 16.182.42.73, 52.217.93.188, 54.231.227.113, ...\n",
      "Connecting to datasets-humai.s3.amazonaws.com (datasets-humai.s3.amazonaws.com)|16.182.42.73|:443... connected.\n",
      "HTTP request sent, awaiting response... 404 Not Found\n",
      "2024-09-15 19:36:33 ERROR 404: Not Found.\n",
      "\n"
     ]
    }
   ],
   "source": [
    "!wget https://datasets-humai.s3.amazonaws.com/datasets/publicaciones.zip"
   ]
  },
  {
   "cell_type": "code",
   "execution_count": 11,
   "metadata": {},
   "outputs": [],
   "source": [
    "# !unzip publicaciones.zip"
   ]
  },
  {
   "cell_type": "code",
   "execution_count": 12,
   "metadata": {},
   "outputs": [],
   "source": [
    "import os"
   ]
  },
  {
   "cell_type": "code",
   "execution_count": 13,
   "metadata": {},
   "outputs": [],
   "source": [
    "archivos_directorio = os.listdir('publicaciones')"
   ]
  },
  {
   "cell_type": "code",
   "execution_count": 14,
   "metadata": {},
   "outputs": [
    {
     "name": "stdout",
     "output_type": "stream",
     "text": [
      "['Characterization of Iron Deposition in Recombinant Heteropolymer.txt', 'Yukon Delta Salmon Management.txt', 'The Citrus Solution Phase II.txt', 'Using GIS Site Suitability Analysis to Study Adaptability.txt']\n"
     ]
    }
   ],
   "source": [
    "print(archivos_directorio)"
   ]
  },
  {
   "cell_type": "markdown",
   "metadata": {},
   "source": [
    "La función listdir nos devuelve una lista con todos los archivos que están en la carpeta publicaciones. Noten que solamente nos devuelve los nombres de los archivos, no la ruta completa que necesitamos para acceder a los mismos desde la ubicación en el filesystem donde se encuentra esta notebook.\n",
    "\n",
    "Las rutas hasta los archivos cambian con el sistema operativo, por eso si están en Windows, la forma de acceder al archivo Yukon Delta Salmon Management.txt es ejercicios\\\\Yukon Delta Salmon Management.txt mientras que si están en Linux o Unix la forma de acceder es ejercicios/Yukon Delta Salmon Management.txt .  Para evitar problemas y que el código sea ejecutable desde cualquier sistema operativo, el módulo os tiene la función os.join.\n",
    "\n",
    "Entonces para crear las rutas vamos a usar la función os.path.join y para esto es ideal una lista por comprensión"
   ]
  },
  {
   "cell_type": "code",
   "execution_count": 15,
   "metadata": {},
   "outputs": [],
   "source": [
    "rutas_archivos = [os.path.join('publicaciones',archivo) for archivo in archivos_directorio]"
   ]
  },
  {
   "cell_type": "code",
   "execution_count": 16,
   "metadata": {},
   "outputs": [
    {
     "data": {
      "text/plain": [
       "['publicaciones/Characterization of Iron Deposition in Recombinant Heteropolymer.txt',\n",
       " 'publicaciones/Yukon Delta Salmon Management.txt',\n",
       " 'publicaciones/The Citrus Solution Phase II.txt',\n",
       " 'publicaciones/Using GIS Site Suitability Analysis to Study Adaptability.txt']"
      ]
     },
     "execution_count": 16,
     "metadata": {},
     "output_type": "execute_result"
    }
   ],
   "source": [
    "rutas_archivos"
   ]
  },
  {
   "cell_type": "markdown",
   "metadata": {},
   "source": [
    "Ahora vamos a unir estas dos listas del mismo tamaño en una lista de tuplas utilizando la función \"zip\" de Python nativo. Como el zip de Python devuelve un objeto iterable, vamos a convertirlo en lista para trabajar mejor"
   ]
  },
  {
   "cell_type": "code",
   "execution_count": 27,
   "metadata": {},
   "outputs": [],
   "source": [
    "tuplas_archivos = list(zip(rutas_archivos,archivos_directorio))"
   ]
  },
  {
   "cell_type": "code",
   "execution_count": 18,
   "metadata": {},
   "outputs": [
    {
     "name": "stdout",
     "output_type": "stream",
     "text": [
      "('publicaciones/Characterization of Iron Deposition in Recombinant Heteropolymer.txt', 'Characterization of Iron Deposition in Recombinant Heteropolymer.txt')\n",
      "('publicaciones/Yukon Delta Salmon Management.txt', 'Yukon Delta Salmon Management.txt')\n",
      "('publicaciones/The Citrus Solution Phase II.txt', 'The Citrus Solution Phase II.txt')\n",
      "('publicaciones/Using GIS Site Suitability Analysis to Study Adaptability.txt', 'Using GIS Site Suitability Analysis to Study Adaptability.txt')\n"
     ]
    }
   ],
   "source": [
    "for tupla in tuplas_archivos:\n",
    "    print(tupla)"
   ]
  },
  {
   "cell_type": "markdown",
   "metadata": {},
   "source": [
    "Ahora sí, vamos a pedirles que creen una función que reciba una tupla con la ruta y el nombre del archivo. Necesitamos que esta función cuente las palabras que hay en el txt que se encuentra en esa ruta y luego imprima el nombre del archivo y la cantidad. \n",
    "Después vamos a escribir un for loop que recorra la lista tuplas_archivos y devuelve una tupla con el nombre del archivo y la cantidad de palabras. Desde el loop for vamos a imprimir esa tupla.\n"
   ]
  },
  {
   "cell_type": "code",
   "execution_count": 32,
   "metadata": {},
   "outputs": [],
   "source": [
    "# 1. Escribir la función\n",
    "def contar_palabras(\n",
    "    lista: list\n",
    "    ) -> tuple:\n",
    "    with open(lista[0], 'r') as archivo:\n",
    "        contenido = archivo.read()\n",
    "        palabras = contenido.split()\n",
    "        return (len(palabras),lista[1])"
   ]
  },
  {
   "cell_type": "code",
   "execution_count": 33,
   "metadata": {},
   "outputs": [
    {
     "name": "stdout",
     "output_type": "stream",
     "text": [
      "(217, 'Characterization of Iron Deposition in Recombinant Heteropolymer.txt')\n",
      "(106, 'Yukon Delta Salmon Management.txt')\n",
      "(518, 'The Citrus Solution Phase II.txt')\n",
      "(133, 'Using GIS Site Suitability Analysis to Study Adaptability.txt')\n"
     ]
    }
   ],
   "source": [
    "for tupla in tuplas_archivos:\n",
    "    print(contar_palabras(tupla))"
   ]
  },
  {
   "cell_type": "markdown",
   "metadata": {},
   "source": [
    "Entonces ¿Cuáles superan las 250 palabras? Si quieren ir una milla extra modifiquen la función para que devuelva True si supera y False si no supera en lugar de devolver la cantidad. "
   ]
  },
  {
   "cell_type": "code",
   "execution_count": 40,
   "metadata": {},
   "outputs": [
    {
     "name": "stdout",
     "output_type": "stream",
     "text": [
      "217 True Characterization of Iron Deposition in Recombinant Heteropolymer.txt\n",
      "106 True Yukon Delta Salmon Management.txt\n",
      "518 True The Citrus Solution Phase II.txt\n",
      "133 True Using GIS Site Suitability Analysis to Study Adaptability.txt\n"
     ]
    }
   ],
   "source": [
    "# 3. Modifiquen la función\n",
    "def large_abstract(\n",
    "    lista: list,\n",
    "    n: int\n",
    "    ) -> None:\n",
    "    for tupla in lista:\n",
    "        words, title = contar_palabras(tupla)\n",
    "        if words > n:\n",
    "            print(words, True, title)\n",
    "        else:\n",
    "            print(words, True, title)\n",
    "\n",
    "large_abstract(tuplas_archivos,250)"
   ]
  }
 ],
 "metadata": {
  "kernelspec": {
   "display_name": ".venv-cursos",
   "language": "python",
   "name": "python3"
  },
  "language_info": {
   "codemirror_mode": {
    "name": "ipython",
    "version": 3
   },
   "file_extension": ".py",
   "mimetype": "text/x-python",
   "name": "python",
   "nbconvert_exporter": "python",
   "pygments_lexer": "ipython3",
   "version": "3.12.3"
  }
 },
 "nbformat": 4,
 "nbformat_minor": 4
}
