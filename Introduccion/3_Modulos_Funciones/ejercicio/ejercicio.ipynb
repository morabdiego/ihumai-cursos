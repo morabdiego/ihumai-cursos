{
  "cells": [
    {
      "cell_type": "markdown",
      "metadata": {
        "id": "u6Q5T7k22WuZ"
      },
      "source": [
        "<a href=\"https://colab.research.google.com/github/institutohumai/cursos-python/blob/master/Introduccion/3_Modulos_Funciones/ejercicio/ejercicio.ipynb\"> <img src='https://colab.research.google.com/assets/colab-badge.svg' /> </a>\n",
        "<div align=\"center\"> Recordá abrir en una nueva pestaña </div>"
      ]
    },
    {
      "cell_type": "markdown",
      "metadata": {
        "id": "WxAL6VsU2Wuo"
      },
      "source": [
        "# Ejercicios III"
      ]
    },
    {
      "cell_type": "markdown",
      "metadata": {
        "id": "y4fgNZK42Wuq"
      },
      "source": [
        "## Factoriales\n",
        "\n",
        "El factorial de un número natural es la multiplicación de todos los números anteriores hasta llegar a 1. Por ejemplo el factorial de 5 es igual a $5* 4* 3* 2* 1$, es decir, 120.\n",
        "\n",
        "Igual que con la serie Fibonacci, hay dos formas de resolver este problema: una con un loop for y la otra utilizando funciones recursivas.  Recuerden que cada función recursiva tiene que tener una condición terminal.\n",
        "En el caso de Fibonacci, la condición terminal es que fibo(1) = 1. \n",
        "\n",
        "En el caso de factorial, la condición terminal será factorial(1) = 1 \n",
        "\n",
        "Escriban ahora las dos versiones posibles de la función factorial(x). "
      ]
    },
    {
      "cell_type": "code",
      "execution_count": 1,
      "metadata": {
        "id": "AI0nQ8vL2Wux"
      },
      "outputs": [
        {
          "name": "stdout",
          "output_type": "stream",
          "text": [
            "120\n"
          ]
        }
      ],
      "source": [
        "# Solución recursiva. \n",
        "def recursive_factorial(x):\n",
        "    if x == 1:\n",
        "        return 1\n",
        "    else:\n",
        "        return x * recursive_factorial(x-1)\n",
        "\n",
        "print(recursive_factorial(5))"
      ]
    },
    {
      "cell_type": "code",
      "execution_count": 2,
      "metadata": {
        "id": "WsRV3pZU2Wu3"
      },
      "outputs": [
        {
          "name": "stdout",
          "output_type": "stream",
          "text": [
            "120\n"
          ]
        }
      ],
      "source": [
        "# Solución iterativa. \n",
        "def iterative_factorial(x):\n",
        "    result = 1\n",
        "    for i in range(1, x+1):\n",
        "        result *= i\n",
        "    return result\n",
        "\n",
        "print(iterative_factorial(5))"
      ]
    },
    {
      "cell_type": "markdown",
      "metadata": {
        "id": "_RnUbcaR2Wu4"
      },
      "source": [
        "Ahora construyan un módulo que se llame \"operaciones\" con cualquiera de las dos versiones de la función y luego invoquen a la función factorial del módulo."
      ]
    },
    {
      "cell_type": "code",
      "execution_count": 3,
      "metadata": {
        "id": "amURxY7Q2Wu5"
      },
      "outputs": [],
      "source": [
        "# Escriban el archivo operaciones.py\n",
        "with open(\"operaciones.py\", \"w\") as f:\n",
        "    f.write(\"def recursive_factorial(x):\\n\")\n",
        "    f.write(\"    if x == 1:\\n\")\n",
        "    f.write(\"        return 1\\n\")\n",
        "    f.write(\"    else:\\n\")\n",
        "    f.write(\"        return x * recursive_factorial(x-1)\\n\")\n",
        "    f.write(\"\\n\")\n",
        "    f.write(\"def iterative_factorial(x):\\n\")\n",
        "    f.write(\"    result = 1\\n\")\n",
        "    f.write(\"    for i in range(1, x+1):\\n\")\n",
        "    f.write(\"        result *= i\\n\")\n",
        "    f.write(\"    return result\\n\")"
      ]
    },
    {
      "cell_type": "code",
      "execution_count": 4,
      "metadata": {
        "id": "MjA4BPw92Wu6"
      },
      "outputs": [],
      "source": [
        "# Importen operaciones\n",
        "import operaciones"
      ]
    },
    {
      "cell_type": "code",
      "execution_count": 5,
      "metadata": {
        "id": "ltadgg2C2Wu9"
      },
      "outputs": [
        {
          "name": "stdout",
          "output_type": "stream",
          "text": [
            "120\n",
            "120\n"
          ]
        }
      ],
      "source": [
        "# Invoquen con cualquier valor a operaciones.factorial()\n",
        "print(operaciones.recursive_factorial(5))\n",
        "print(operaciones.iterative_factorial(5))"
      ]
    },
    {
      "cell_type": "markdown",
      "metadata": {
        "id": "uyHeMHAwJ1Ro"
      },
      "source": [
        "Módulos de búsqueda. Ahora crea un paquete (carpeta con varios módulos) donde haya al menos dos algorítmos de búsqueda vistos que funcionen sobre listas de número. \n",
        "Extra: que la busqueda permita diccionarios"
      ]
    },
    {
      "cell_type": "code",
      "execution_count": 6,
      "metadata": {
        "id": "XRBF8JHLKFvS"
      },
      "outputs": [
        {
          "ename": "ModuleNotFoundError",
          "evalue": "No module named 'paquete'",
          "output_type": "error",
          "traceback": [
            "\u001b[0;31m---------------------------------------------------------------------------\u001b[0m",
            "\u001b[0;31mModuleNotFoundError\u001b[0m                       Traceback (most recent call last)",
            "Cell \u001b[0;32mIn[6], line 25\u001b[0m\n\u001b[1;32m     22\u001b[0m     f\u001b[38;5;241m.\u001b[39mwrite(\u001b[38;5;124m\"\u001b[39m\u001b[38;5;124m            derecha = medio - 1\u001b[39m\u001b[38;5;130;01m\\n\u001b[39;00m\u001b[38;5;124m\"\u001b[39m)\n\u001b[1;32m     23\u001b[0m     f\u001b[38;5;241m.\u001b[39mwrite(\u001b[38;5;124m\"\u001b[39m\u001b[38;5;124m    return -1\u001b[39m\u001b[38;5;130;01m\\n\u001b[39;00m\u001b[38;5;124m\"\u001b[39m)\n\u001b[0;32m---> 25\u001b[0m \u001b[38;5;28;01mfrom\u001b[39;00m \u001b[38;5;21;01mpaquete\u001b[39;00m\u001b[38;5;21;01m.\u001b[39;00m\u001b[38;5;21;01mbusqueda_lineal\u001b[39;00m \u001b[38;5;28;01mimport\u001b[39;00m busqueda_lineal\n\u001b[1;32m     26\u001b[0m \u001b[38;5;28;01mfrom\u001b[39;00m \u001b[38;5;21;01mpaquete\u001b[39;00m\u001b[38;5;21;01m.\u001b[39;00m\u001b[38;5;21;01mbusqueda_binaria\u001b[39;00m \u001b[38;5;28;01mimport\u001b[39;00m busqueda_binaria\n",
            "\u001b[0;31mModuleNotFoundError\u001b[0m: No module named 'paquete'"
          ]
        }
      ],
      "source": [
        "import os\n",
        "\n",
        "os.mkdir(\"paquete\")\n",
        "os.chdir(\"paquete\")\n",
        "with open(\"busqueda_lineal.py\", \"w\") as f:\n",
        "    f.write(\"def busqueda_lineal(lista, elemento):\\n\")\n",
        "    f.write(\"    for i in range(len(lista)):\\n\")\n",
        "    f.write(\"        if lista[i] == elemento:\\n\")\n",
        "    f.write(\"            return i\\n\")\n",
        "    f.write(\"    return -1\\n\")\n",
        "\n",
        "with open(\"busqueda_binaria.py\", \"w\") as f:\n",
        "    f.write(\"def busqueda_binaria(lista, elemento):\\n\")\n",
        "    f.write(\"    izquierda, derecha = 0, len(lista) - 1\\n\")\n",
        "    f.write(\"    while izquierda <= derecha:\\n\")\n",
        "    f.write(\"        medio = (izquierda + derecha) // 2\\n\")\n",
        "    f.write(\"        if lista[medio] == elemento:\\n\")\n",
        "    f.write(\"            return medio\\n\")\n",
        "    f.write(\"        elif lista[medio] < elemento:\\n\")\n",
        "    f.write(\"            izquierda = medio + 1\\n\")\n",
        "    f.write(\"        else:\\n\")\n",
        "    f.write(\"            derecha = medio - 1\\n\")\n",
        "    f.write(\"    return -1\\n\")\n"
      ]
    },
    {
      "cell_type": "code",
      "execution_count": 8,
      "metadata": {},
      "outputs": [
        {
          "name": "stdout",
          "output_type": "stream",
          "text": [
            "2\n",
            "2\n"
          ]
        }
      ],
      "source": [
        "from busqueda_lineal import busqueda_lineal\n",
        "from busqueda_binaria import busqueda_binaria\n",
        "\n",
        "print(busqueda_lineal([1, 2, 3, 4, 5], 3))\n",
        "print(busqueda_binaria([1, 2, 3, 4, 5], 3))"
      ]
    }
  ],
  "metadata": {
    "colab": {
      "name": "ejercicio.ipynb",
      "provenance": []
    },
    "kernelspec": {
      "display_name": ".venv-cursos",
      "language": "python",
      "name": "python3"
    },
    "language_info": {
      "codemirror_mode": {
        "name": "ipython",
        "version": 3
      },
      "file_extension": ".py",
      "mimetype": "text/x-python",
      "name": "python",
      "nbconvert_exporter": "python",
      "pygments_lexer": "ipython3",
      "version": "3.12.3"
    }
  },
  "nbformat": 4,
  "nbformat_minor": 0
}
